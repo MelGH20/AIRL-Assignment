{
  "nbformat": 4,
  "nbformat_minor": 0,
  "metadata": {
    "colab": {
      "provenance": [],
      "machine_shape": "hm",
      "gpuType": "T4"
    },
    "kernelspec": {
      "name": "python3",
      "display_name": "Python 3"
    },
    "language_info": {
      "name": "python"
    },
    "accelerator": "GPU"
  },
  "cells": [
    {
      "cell_type": "code",
      "execution_count": 1,
      "metadata": {
        "id": "CmAj1xm4XbZg"
      },
      "outputs": [],
      "source": [
        "!pip install -q torch torchvision timm einops"
      ]
    },
    {
      "cell_type": "code",
      "source": [
        "import os\n",
        "import math\n",
        "from pathlib import Path\n",
        "from datetime import datetime\n",
        "import random\n",
        "import torch\n",
        "import torch.nn as nn\n",
        "import torch.nn.functional as F\n",
        "from torch.optim import AdamW\n",
        "from torch.optim.lr_scheduler import CosineAnnealingLR\n",
        "from torch.utils.data import DataLoader\n",
        "from torchvision import datasets, transforms\n",
        "from einops import rearrange\n",
        "\n",
        "def set_seed(seed=42):\n",
        "  random.seed(seed)\n",
        "  torch.manual_seed(seed)\n",
        "  torch.cuda.manual_seed_all(seed)\n",
        "\n",
        "set_seed(42)\n",
        "\n",
        "DEVICE = 'cuda' if torch.cuda.is_available() else 'cpu'\n",
        "print('Device:', DEVICE)"
      ],
      "metadata": {
        "colab": {
          "base_uri": "https://localhost:8080/"
        },
        "id": "CG6FFHKTXpAH",
        "outputId": "c2bd974c-eee9-4657-d9fe-e5eecb551672"
      },
      "execution_count": 2,
      "outputs": [
        {
          "output_type": "stream",
          "name": "stdout",
          "text": [
            "Device: cuda\n"
          ]
        }
      ]
    },
    {
      "cell_type": "code",
      "source": [
        "config = {\n",
        "'image_size': 32, # CIFAR-10 images\n",
        "'patch_size': 4, # 4x4 patches -> (32/4)^2 = 64 tokens\n",
        "'in_chans': 3,\n",
        "'num_classes': 10,\n",
        "'dim': 256, # embedding dim (width)\n",
        "'depth': 8, # number of Transformer encoder blocks\n",
        "'mlp_ratio': 4,\n",
        "'num_heads': 8,\n",
        "'dropout': 0.0,\n",
        "'emb_dropout': 0.0,\n",
        "'batch_size': 256,\n",
        "'epochs': 60,\n",
        "'lr': 3e-4,\n",
        "'weight_decay': 0.05,\n",
        "'label_smoothing': 0.1,\n",
        "}"
      ],
      "metadata": {
        "id": "f2NFg9tgX2Ls"
      },
      "execution_count": 3,
      "outputs": []
    },
    {
      "cell_type": "code",
      "source": [
        "train_transform = transforms.Compose([\n",
        "transforms.RandomCrop(32, padding=4),\n",
        "transforms.RandomHorizontalFlip(),\n",
        "transforms.ToTensor(),\n",
        "transforms.Normalize((0.4914, 0.4822, 0.4465),(0.247,0.243,0.261)),\n",
        "])\n",
        "\n",
        "\n",
        "test_transform = transforms.Compose([\n",
        "transforms.ToTensor(),\n",
        "transforms.Normalize((0.4914, 0.4822, 0.4465),(0.247,0.243,0.261)),\n",
        "])\n",
        "\n",
        "\n",
        "train_ds = datasets.CIFAR10(root='data', train=True, download=True, transform=train_transform)\n",
        "val_ds = datasets.CIFAR10(root='data', train=False, download=True, transform=test_transform)\n",
        "\n",
        "\n",
        "train_loader = DataLoader(train_ds, batch_size=config['batch_size'], shuffle=True, num_workers=2, pin_memory=True)\n",
        "val_loader = DataLoader(val_ds, batch_size=512, shuffle=False, num_workers=2, pin_memory=True)\n"
      ],
      "metadata": {
        "colab": {
          "base_uri": "https://localhost:8080/"
        },
        "id": "kQGRz1mxX7Og",
        "outputId": "8c19b422-8412-4e83-b9cb-844ca63c26f8"
      },
      "execution_count": 4,
      "outputs": [
        {
          "output_type": "stream",
          "name": "stderr",
          "text": [
            "100%|██████████| 170M/170M [01:29<00:00, 1.91MB/s]\n"
          ]
        }
      ]
    },
    {
      "cell_type": "code",
      "source": [
        "class PatchEmbedding(nn.Module):\n",
        "  def __init__(self, image_size, patch_size, in_chans, embed_dim):\n",
        "    super().__init__()\n",
        "    assert image_size % patch_size == 0, 'image must be divisible by patch size'\n",
        "    self.num_patches = (image_size // patch_size) ** 2\n",
        "    self.patch_size = patch_size\n",
        "    # use conv to create patch embeddings\n",
        "    self.proj = nn.Conv2d(in_chans, embed_dim, kernel_size=patch_size, stride=patch_size)\n",
        "\n",
        "  def forward(self, x):\n",
        "    # x: (B, C, H, W)\n",
        "    x = self.proj(x) # (B, embed_dim, H/ps, W/ps)\n",
        "    x = x.flatten(2).transpose(1,2) # (B, num_patches, embed_dim)\n",
        "    return x\n",
        "\n",
        "\n",
        "class MLP(nn.Module):\n",
        "  def __init__(self, in_features, hidden_features=None, drop=0.):\n",
        "    super().__init__()\n",
        "    hidden_features = hidden_features or in_features\n",
        "    self.fc1 = nn.Linear(in_features, hidden_features)\n",
        "    self.act = nn.GELU()\n",
        "    self.fc2 = nn.Linear(hidden_features, in_features)\n",
        "    self.drop = nn.Dropout(drop)\n",
        "\n",
        "  def forward(self, x):\n",
        "    x = self.fc1(x)\n",
        "    x = self.act(x)\n",
        "    x = self.drop(x)\n",
        "    x = self.fc2(x)\n",
        "    x = self.drop(x)\n",
        "    return x\n",
        "\n",
        "class TransformerEncoderBlock(nn.Module):\n",
        "  def __init__(self, dim, num_heads, mlp_ratio=4., qkv_bias=True, drop=0., attn_drop=0.):\n",
        "    super().__init__()\n",
        "    self.norm1 = nn.LayerNorm(dim)\n",
        "    self.attn = nn.MultiheadAttention(embed_dim=dim, num_heads=num_heads, dropout=attn_drop, batch_first=True)\n",
        "    self.drop_path = nn.Identity()\n",
        "    self.norm2 = nn.LayerNorm(dim)\n",
        "    self.mlp = MLP(dim, int(dim*mlp_ratio), drop=drop)\n",
        "\n",
        "  def forward(self, x):\n",
        "    # x: (B, N, C)\n",
        "    x = x + self.attn(self.norm1(x), self.norm1(x), self.norm1(x))[0]\n",
        "    x = x + self.mlp(self.norm2(x))\n",
        "    return x\n",
        "\n",
        "class ViT(nn.Module):\n",
        "  def __init__(self, image_size=32, patch_size=4, in_chans=3, num_classes=10, embed_dim=256, depth=8, num_heads=8, mlp_ratio=4., emb_dropout=0., dropout=0.):\n",
        "    super().__init__()\n",
        "    self.patch_embed = PatchEmbedding(image_size, patch_size, in_chans, embed_dim)\n",
        "    num_patches = self.patch_embed.num_patches\n",
        "\n",
        "\n",
        "    # CLS token\n",
        "    self.cls_token = nn.Parameter(torch.zeros(1,1,embed_dim))\n",
        "    # positional embeddings\n",
        "    self.pos_embed = nn.Parameter(torch.zeros(1, num_patches+1, embed_dim))\n",
        "    self.pos_drop = nn.Dropout(p=emb_dropout)\n",
        "\n",
        "\n",
        "    # Transformer Encoder blocks\n",
        "    self.blocks = nn.ModuleList([\n",
        "      TransformerEncoderBlock(embed_dim, num_heads, mlp_ratio, drop=dropout, attn_drop=dropout)\n",
        "      for _ in range(depth)\n",
        "    ])\n",
        "    self.norm = nn.LayerNorm(embed_dim)\n",
        "    self.head = nn.Linear(embed_dim, num_classes)\n",
        "\n",
        "\n",
        "    # initialize\n",
        "    nn.init.trunc_normal_(self.pos_embed, std=0.02)\n",
        "    nn.init.trunc_normal_(self.cls_token, std=0.02)\n",
        "    self.apply(self._init_weights)\n",
        "\n",
        "  def _init_weights(self, m):\n",
        "    if isinstance(m, nn.Linear):\n",
        "      nn.init.trunc_normal_(m.weight, std=0.02)\n",
        "      if m.bias is not None:\n",
        "        nn.init.zeros_(m.bias)\n",
        "    elif isinstance(m, nn.LayerNorm):\n",
        "      nn.init.zeros_(m.bias)\n",
        "      nn.init.ones_(m.weight)\n",
        "\n",
        "\n",
        "  def forward(self, x):\n",
        "    B = x.shape[0]\n",
        "    x = self.patch_embed(x) # (B, N, C)\n",
        "    cls_tokens = self.cls_token.expand(B, -1, -1) # (B,1,C)\n",
        "    x = torch.cat((cls_tokens, x), dim=1) # (B, N+1, C)\n",
        "    x = x + self.pos_embed\n",
        "    x = self.pos_drop(x)\n",
        "    for blk in self.blocks:\n",
        "      x = blk(x)\n",
        "    x = self.norm(x)\n",
        "    cls = x[:,0]\n",
        "    logits = self.head(cls)\n",
        "    return logits"
      ],
      "metadata": {
        "id": "-Sph7ndoX-3i"
      },
      "execution_count": 5,
      "outputs": []
    },
    {
      "cell_type": "code",
      "source": [
        "model = ViT(\n",
        "  image_size=config['image_size'],\n",
        "  patch_size=config['patch_size'],\n",
        "  in_chans=config['in_chans'],\n",
        "  num_classes=config['num_classes'],\n",
        "  embed_dim=config['dim'],\n",
        "  depth=config['depth'],\n",
        "  num_heads=config['num_heads'],\n",
        "  mlp_ratio=config['mlp_ratio'],\n",
        "  emb_dropout=config['emb_dropout'],\n",
        "  dropout=config['dropout'],\n",
        ").to(DEVICE)\n",
        "\n",
        "print(model)\n",
        "\n",
        "\n",
        "class LabelSmoothingCrossEntropy(nn.Module):\n",
        "  def __init__(self, smoothing=0.0):\n",
        "    super().__init__()\n",
        "    self.smoothing = smoothing\n",
        "\n",
        "  def forward(self, pred, target):\n",
        "    logprobs = F.log_softmax(pred, dim=-1)\n",
        "    nll = -logprobs.gather(dim=-1, index=target.unsqueeze(1)).squeeze(1)\n",
        "    smooth_loss = -logprobs.mean(dim=-1)\n",
        "    loss = (1.0 - self.smoothing) * nll + self.smoothing * smooth_loss\n",
        "    return loss.mean()\n",
        "\n",
        "criterion = LabelSmoothingCrossEntropy(config['label_smoothing'])\n",
        "\n",
        "optimizer = AdamW(model.parameters(), lr=config['lr'], weight_decay=config['weight_decay'])\n",
        "scheduler = CosineAnnealingLR(optimizer, T_max=config['epochs'])"
      ],
      "metadata": {
        "colab": {
          "base_uri": "https://localhost:8080/"
        },
        "id": "HrL_yLo2ZK7s",
        "outputId": "ca6d4be5-00fc-426c-ab75-ca53f858defa"
      },
      "execution_count": 7,
      "outputs": [
        {
          "output_type": "stream",
          "name": "stdout",
          "text": [
            "ViT(\n",
            "  (patch_embed): PatchEmbedding(\n",
            "    (proj): Conv2d(3, 256, kernel_size=(4, 4), stride=(4, 4))\n",
            "  )\n",
            "  (pos_drop): Dropout(p=0.0, inplace=False)\n",
            "  (blocks): ModuleList(\n",
            "    (0-7): 8 x TransformerEncoderBlock(\n",
            "      (norm1): LayerNorm((256,), eps=1e-05, elementwise_affine=True)\n",
            "      (attn): MultiheadAttention(\n",
            "        (out_proj): NonDynamicallyQuantizableLinear(in_features=256, out_features=256, bias=True)\n",
            "      )\n",
            "      (drop_path): Identity()\n",
            "      (norm2): LayerNorm((256,), eps=1e-05, elementwise_affine=True)\n",
            "      (mlp): MLP(\n",
            "        (fc1): Linear(in_features=256, out_features=1024, bias=True)\n",
            "        (act): GELU(approximate='none')\n",
            "        (fc2): Linear(in_features=1024, out_features=256, bias=True)\n",
            "        (drop): Dropout(p=0.0, inplace=False)\n",
            "      )\n",
            "    )\n",
            "  )\n",
            "  (norm): LayerNorm((256,), eps=1e-05, elementwise_affine=True)\n",
            "  (head): Linear(in_features=256, out_features=10, bias=True)\n",
            ")\n"
          ]
        }
      ]
    },
    {
      "cell_type": "code",
      "source": [
        "from tqdm import tqdm\n",
        "\n",
        "def train_one_epoch(epoch):\n",
        "  model.train()\n",
        "  running_loss = 0.0\n",
        "  correct = 0\n",
        "  total = 0\n",
        "  pbar = tqdm(train_loader, desc=f'Train Ep {epoch}')\n",
        "  for imgs, targets in pbar:\n",
        "    imgs = imgs.to(DEVICE)\n",
        "    targets = targets.to(DEVICE)\n",
        "    optimizer.zero_grad()\n",
        "    logits = model(imgs)\n",
        "    loss = criterion(logits, targets)\n",
        "    loss.backward()\n",
        "    optimizer.step()\n",
        "    running_loss += loss.item() * imgs.size(0)\n",
        "    preds = logits.argmax(dim=1)\n",
        "    correct += (preds == targets).sum().item()\n",
        "    total += imgs.size(0)\n",
        "    pbar.set_postfix({'loss': running_loss/total, 'acc': correct/total})\n",
        "  return running_loss/total, correct/total\n",
        "\n",
        "def evaluate():\n",
        "  model.eval()\n",
        "  running_loss = 0.0\n",
        "  correct = 0\n",
        "  total = 0\n",
        "  with torch.no_grad():\n",
        "    for imgs, targets in val_loader:\n",
        "      imgs = imgs.to(DEVICE)\n",
        "      targets = targets.to(DEVICE)\n",
        "      logits = model(imgs)\n",
        "      loss = criterion(logits, targets)\n",
        "      running_loss += loss.item() * imgs.size(0)\n",
        "      preds = logits.argmax(dim=1)\n",
        "      correct += (preds == targets).sum().item()\n",
        "      total += imgs.size(0)\n",
        "  return running_loss/total, correct/total"
      ],
      "metadata": {
        "id": "eMDwvGnAZP0R"
      },
      "execution_count": 9,
      "outputs": []
    },
    {
      "cell_type": "code",
      "source": [
        "best_acc = 0.0\n",
        "logs = []\n",
        "start_time = datetime.now()\n",
        "for epoch in range(1, config['epochs']+1):\n",
        "  train_loss, train_acc = train_one_epoch(epoch)\n",
        "  val_loss, val_acc = evaluate()\n",
        "  scheduler.step()\n",
        "  logs.append((epoch, train_loss, train_acc, val_loss, val_acc))\n",
        "  print(f\"Epoch {epoch}: train_loss={train_loss:.4f} train_acc={train_acc:.4f} val_loss={val_loss:.4f} val_acc={val_acc:.4f}\")\n",
        "  if val_acc > best_acc:\n",
        "    best_acc = val_acc\n",
        "    torch.save({\n",
        "      'model_state': model.state_dict(),\n",
        "      'config': config,\n",
        "      'epoch': epoch,\n",
        "      'best_acc': best_acc,\n",
        "    }, 'best_vit_cifar10.pth')\n",
        "\n",
        "\n",
        "print('Training finished. Best val acc:', best_acc)\n",
        "print('Elapsed:', datetime.now() - start_time)"
      ],
      "metadata": {
        "colab": {
          "base_uri": "https://localhost:8080/"
        },
        "id": "UDt0FibIaCXF",
        "outputId": "71a97e50-a645-47b3-9227-bd194888dda7"
      },
      "execution_count": 10,
      "outputs": [
        {
          "output_type": "stream",
          "name": "stderr",
          "text": [
            "Train Ep 1: 100%|██████████| 196/196 [00:59<00:00,  3.28it/s, loss=1.88, acc=0.336]\n"
          ]
        },
        {
          "output_type": "stream",
          "name": "stdout",
          "text": [
            "Epoch 1: train_loss=1.8841 train_acc=0.3363 val_loss=1.7319 val_acc=0.4219\n"
          ]
        },
        {
          "output_type": "stream",
          "name": "stderr",
          "text": [
            "Train Ep 2: 100%|██████████| 196/196 [01:00<00:00,  3.25it/s, loss=1.62, acc=0.476]\n"
          ]
        },
        {
          "output_type": "stream",
          "name": "stdout",
          "text": [
            "Epoch 2: train_loss=1.6217 train_acc=0.4757 val_loss=1.5473 val_acc=0.5230\n"
          ]
        },
        {
          "output_type": "stream",
          "name": "stderr",
          "text": [
            "Train Ep 3: 100%|██████████| 196/196 [01:00<00:00,  3.23it/s, loss=1.5, acc=0.536]\n"
          ]
        },
        {
          "output_type": "stream",
          "name": "stdout",
          "text": [
            "Epoch 3: train_loss=1.4993 train_acc=0.5356 val_loss=1.4785 val_acc=0.5515\n"
          ]
        },
        {
          "output_type": "stream",
          "name": "stderr",
          "text": [
            "Train Ep 4: 100%|██████████| 196/196 [01:00<00:00,  3.24it/s, loss=1.42, acc=0.575]\n"
          ]
        },
        {
          "output_type": "stream",
          "name": "stdout",
          "text": [
            "Epoch 4: train_loss=1.4233 train_acc=0.5750 val_loss=1.4424 val_acc=0.5752\n"
          ]
        },
        {
          "output_type": "stream",
          "name": "stderr",
          "text": [
            "Train Ep 5: 100%|██████████| 196/196 [01:00<00:00,  3.22it/s, loss=1.37, acc=0.599]\n"
          ]
        },
        {
          "output_type": "stream",
          "name": "stdout",
          "text": [
            "Epoch 5: train_loss=1.3679 train_acc=0.5995 val_loss=1.3573 val_acc=0.6088\n"
          ]
        },
        {
          "output_type": "stream",
          "name": "stderr",
          "text": [
            "Train Ep 6: 100%|██████████| 196/196 [01:00<00:00,  3.23it/s, loss=1.32, acc=0.622]\n"
          ]
        },
        {
          "output_type": "stream",
          "name": "stdout",
          "text": [
            "Epoch 6: train_loss=1.3179 train_acc=0.6216 val_loss=1.3372 val_acc=0.6117\n"
          ]
        },
        {
          "output_type": "stream",
          "name": "stderr",
          "text": [
            "Train Ep 7: 100%|██████████| 196/196 [01:00<00:00,  3.24it/s, loss=1.27, acc=0.644]\n"
          ]
        },
        {
          "output_type": "stream",
          "name": "stdout",
          "text": [
            "Epoch 7: train_loss=1.2748 train_acc=0.6438 val_loss=1.2803 val_acc=0.6412\n"
          ]
        },
        {
          "output_type": "stream",
          "name": "stderr",
          "text": [
            "Train Ep 8: 100%|██████████| 196/196 [01:00<00:00,  3.24it/s, loss=1.24, acc=0.662]\n"
          ]
        },
        {
          "output_type": "stream",
          "name": "stdout",
          "text": [
            "Epoch 8: train_loss=1.2363 train_acc=0.6618 val_loss=1.2160 val_acc=0.6755\n"
          ]
        },
        {
          "output_type": "stream",
          "name": "stderr",
          "text": [
            "Train Ep 9: 100%|██████████| 196/196 [01:00<00:00,  3.23it/s, loss=1.21, acc=0.678]\n"
          ]
        },
        {
          "output_type": "stream",
          "name": "stdout",
          "text": [
            "Epoch 9: train_loss=1.2066 train_acc=0.6779 val_loss=1.2059 val_acc=0.6832\n"
          ]
        },
        {
          "output_type": "stream",
          "name": "stderr",
          "text": [
            "Train Ep 10: 100%|██████████| 196/196 [01:00<00:00,  3.24it/s, loss=1.18, acc=0.69]\n"
          ]
        },
        {
          "output_type": "stream",
          "name": "stdout",
          "text": [
            "Epoch 10: train_loss=1.1806 train_acc=0.6903 val_loss=1.2054 val_acc=0.6793\n"
          ]
        },
        {
          "output_type": "stream",
          "name": "stderr",
          "text": [
            "Train Ep 11: 100%|██████████| 196/196 [01:00<00:00,  3.23it/s, loss=1.14, acc=0.711]\n"
          ]
        },
        {
          "output_type": "stream",
          "name": "stdout",
          "text": [
            "Epoch 11: train_loss=1.1406 train_acc=0.7111 val_loss=1.1852 val_acc=0.6934\n"
          ]
        },
        {
          "output_type": "stream",
          "name": "stderr",
          "text": [
            "Train Ep 12: 100%|██████████| 196/196 [01:00<00:00,  3.23it/s, loss=1.11, acc=0.721]\n"
          ]
        },
        {
          "output_type": "stream",
          "name": "stdout",
          "text": [
            "Epoch 12: train_loss=1.1140 train_acc=0.7215 val_loss=1.1335 val_acc=0.7159\n"
          ]
        },
        {
          "output_type": "stream",
          "name": "stderr",
          "text": [
            "Train Ep 13: 100%|██████████| 196/196 [01:00<00:00,  3.23it/s, loss=1.08, acc=0.736]\n"
          ]
        },
        {
          "output_type": "stream",
          "name": "stdout",
          "text": [
            "Epoch 13: train_loss=1.0835 train_acc=0.7357 val_loss=1.1061 val_acc=0.7251\n"
          ]
        },
        {
          "output_type": "stream",
          "name": "stderr",
          "text": [
            "Train Ep 14: 100%|██████████| 196/196 [01:00<00:00,  3.23it/s, loss=1.06, acc=0.747]\n"
          ]
        },
        {
          "output_type": "stream",
          "name": "stdout",
          "text": [
            "Epoch 14: train_loss=1.0636 train_acc=0.7466 val_loss=1.0918 val_acc=0.7323\n"
          ]
        },
        {
          "output_type": "stream",
          "name": "stderr",
          "text": [
            "Train Ep 15: 100%|██████████| 196/196 [01:00<00:00,  3.23it/s, loss=1.04, acc=0.752]\n"
          ]
        },
        {
          "output_type": "stream",
          "name": "stdout",
          "text": [
            "Epoch 15: train_loss=1.0442 train_acc=0.7522 val_loss=1.0969 val_acc=0.7238\n"
          ]
        },
        {
          "output_type": "stream",
          "name": "stderr",
          "text": [
            "Train Ep 16: 100%|██████████| 196/196 [01:00<00:00,  3.23it/s, loss=1.02, acc=0.764]\n"
          ]
        },
        {
          "output_type": "stream",
          "name": "stdout",
          "text": [
            "Epoch 16: train_loss=1.0233 train_acc=0.7641 val_loss=1.0552 val_acc=0.7527\n"
          ]
        },
        {
          "output_type": "stream",
          "name": "stderr",
          "text": [
            "Train Ep 17: 100%|██████████| 196/196 [01:00<00:00,  3.22it/s, loss=0.995, acc=0.777]\n"
          ]
        },
        {
          "output_type": "stream",
          "name": "stdout",
          "text": [
            "Epoch 17: train_loss=0.9946 train_acc=0.7768 val_loss=1.0675 val_acc=0.7450\n"
          ]
        },
        {
          "output_type": "stream",
          "name": "stderr",
          "text": [
            "Train Ep 18: 100%|██████████| 196/196 [01:00<00:00,  3.22it/s, loss=0.979, acc=0.783]\n"
          ]
        },
        {
          "output_type": "stream",
          "name": "stdout",
          "text": [
            "Epoch 18: train_loss=0.9787 train_acc=0.7825 val_loss=1.0458 val_acc=0.7545\n"
          ]
        },
        {
          "output_type": "stream",
          "name": "stderr",
          "text": [
            "Train Ep 19: 100%|██████████| 196/196 [01:00<00:00,  3.22it/s, loss=0.956, acc=0.796]\n"
          ]
        },
        {
          "output_type": "stream",
          "name": "stdout",
          "text": [
            "Epoch 19: train_loss=0.9556 train_acc=0.7959 val_loss=1.0380 val_acc=0.7634\n"
          ]
        },
        {
          "output_type": "stream",
          "name": "stderr",
          "text": [
            "Train Ep 20: 100%|██████████| 196/196 [01:00<00:00,  3.22it/s, loss=0.939, acc=0.803]\n"
          ]
        },
        {
          "output_type": "stream",
          "name": "stdout",
          "text": [
            "Epoch 20: train_loss=0.9390 train_acc=0.8030 val_loss=1.0480 val_acc=0.7557\n"
          ]
        },
        {
          "output_type": "stream",
          "name": "stderr",
          "text": [
            "Train Ep 21: 100%|██████████| 196/196 [01:00<00:00,  3.23it/s, loss=0.92, acc=0.813]\n"
          ]
        },
        {
          "output_type": "stream",
          "name": "stdout",
          "text": [
            "Epoch 21: train_loss=0.9200 train_acc=0.8129 val_loss=1.0422 val_acc=0.7537\n"
          ]
        },
        {
          "output_type": "stream",
          "name": "stderr",
          "text": [
            "Train Ep 22: 100%|██████████| 196/196 [01:00<00:00,  3.23it/s, loss=0.903, acc=0.818]\n"
          ]
        },
        {
          "output_type": "stream",
          "name": "stdout",
          "text": [
            "Epoch 22: train_loss=0.9028 train_acc=0.8179 val_loss=1.0221 val_acc=0.7678\n"
          ]
        },
        {
          "output_type": "stream",
          "name": "stderr",
          "text": [
            "Train Ep 23: 100%|██████████| 196/196 [01:00<00:00,  3.23it/s, loss=0.887, acc=0.824]\n"
          ]
        },
        {
          "output_type": "stream",
          "name": "stdout",
          "text": [
            "Epoch 23: train_loss=0.8872 train_acc=0.8240 val_loss=1.0079 val_acc=0.7741\n"
          ]
        },
        {
          "output_type": "stream",
          "name": "stderr",
          "text": [
            "Train Ep 24: 100%|██████████| 196/196 [01:00<00:00,  3.23it/s, loss=0.863, acc=0.837]\n"
          ]
        },
        {
          "output_type": "stream",
          "name": "stdout",
          "text": [
            "Epoch 24: train_loss=0.8627 train_acc=0.8374 val_loss=0.9974 val_acc=0.7817\n"
          ]
        },
        {
          "output_type": "stream",
          "name": "stderr",
          "text": [
            "Train Ep 25: 100%|██████████| 196/196 [01:00<00:00,  3.23it/s, loss=0.847, acc=0.844]\n"
          ]
        },
        {
          "output_type": "stream",
          "name": "stdout",
          "text": [
            "Epoch 25: train_loss=0.8468 train_acc=0.8436 val_loss=0.9993 val_acc=0.7787\n"
          ]
        },
        {
          "output_type": "stream",
          "name": "stderr",
          "text": [
            "Train Ep 26: 100%|██████████| 196/196 [01:00<00:00,  3.24it/s, loss=0.829, acc=0.853]\n"
          ]
        },
        {
          "output_type": "stream",
          "name": "stdout",
          "text": [
            "Epoch 26: train_loss=0.8286 train_acc=0.8528 val_loss=0.9944 val_acc=0.7834\n"
          ]
        },
        {
          "output_type": "stream",
          "name": "stderr",
          "text": [
            "Train Ep 27: 100%|██████████| 196/196 [01:00<00:00,  3.24it/s, loss=0.814, acc=0.86]\n"
          ]
        },
        {
          "output_type": "stream",
          "name": "stdout",
          "text": [
            "Epoch 27: train_loss=0.8136 train_acc=0.8600 val_loss=0.9876 val_acc=0.7858\n"
          ]
        },
        {
          "output_type": "stream",
          "name": "stderr",
          "text": [
            "Train Ep 28: 100%|██████████| 196/196 [01:00<00:00,  3.23it/s, loss=0.795, acc=0.867]\n"
          ]
        },
        {
          "output_type": "stream",
          "name": "stdout",
          "text": [
            "Epoch 28: train_loss=0.7948 train_acc=0.8672 val_loss=0.9804 val_acc=0.7894\n"
          ]
        },
        {
          "output_type": "stream",
          "name": "stderr",
          "text": [
            "Train Ep 29: 100%|██████████| 196/196 [01:00<00:00,  3.23it/s, loss=0.773, acc=0.88]\n"
          ]
        },
        {
          "output_type": "stream",
          "name": "stdout",
          "text": [
            "Epoch 29: train_loss=0.7728 train_acc=0.8801 val_loss=0.9801 val_acc=0.7951\n"
          ]
        },
        {
          "output_type": "stream",
          "name": "stderr",
          "text": [
            "Train Ep 30: 100%|██████████| 196/196 [01:00<00:00,  3.23it/s, loss=0.763, acc=0.882]\n"
          ]
        },
        {
          "output_type": "stream",
          "name": "stdout",
          "text": [
            "Epoch 30: train_loss=0.7630 train_acc=0.8820 val_loss=0.9855 val_acc=0.7918\n"
          ]
        },
        {
          "output_type": "stream",
          "name": "stderr",
          "text": [
            "Train Ep 31: 100%|██████████| 196/196 [01:00<00:00,  3.22it/s, loss=0.75, acc=0.889]\n"
          ]
        },
        {
          "output_type": "stream",
          "name": "stdout",
          "text": [
            "Epoch 31: train_loss=0.7504 train_acc=0.8893 val_loss=0.9777 val_acc=0.7965\n"
          ]
        },
        {
          "output_type": "stream",
          "name": "stderr",
          "text": [
            "Train Ep 32: 100%|██████████| 196/196 [01:00<00:00,  3.22it/s, loss=0.727, acc=0.899]\n"
          ]
        },
        {
          "output_type": "stream",
          "name": "stdout",
          "text": [
            "Epoch 32: train_loss=0.7271 train_acc=0.8988 val_loss=0.9989 val_acc=0.7904\n"
          ]
        },
        {
          "output_type": "stream",
          "name": "stderr",
          "text": [
            "Train Ep 33: 100%|██████████| 196/196 [01:00<00:00,  3.22it/s, loss=0.713, acc=0.905]\n"
          ]
        },
        {
          "output_type": "stream",
          "name": "stdout",
          "text": [
            "Epoch 33: train_loss=0.7134 train_acc=0.9051 val_loss=1.0054 val_acc=0.7944\n"
          ]
        },
        {
          "output_type": "stream",
          "name": "stderr",
          "text": [
            "Train Ep 34: 100%|██████████| 196/196 [01:00<00:00,  3.22it/s, loss=0.699, acc=0.912]\n"
          ]
        },
        {
          "output_type": "stream",
          "name": "stdout",
          "text": [
            "Epoch 34: train_loss=0.6989 train_acc=0.9118 val_loss=0.9851 val_acc=0.7972\n"
          ]
        },
        {
          "output_type": "stream",
          "name": "stderr",
          "text": [
            "Train Ep 35: 100%|██████████| 196/196 [01:00<00:00,  3.23it/s, loss=0.684, acc=0.918]\n"
          ]
        },
        {
          "output_type": "stream",
          "name": "stdout",
          "text": [
            "Epoch 35: train_loss=0.6843 train_acc=0.9184 val_loss=1.0030 val_acc=0.7948\n"
          ]
        },
        {
          "output_type": "stream",
          "name": "stderr",
          "text": [
            "Train Ep 36: 100%|██████████| 196/196 [01:00<00:00,  3.24it/s, loss=0.666, acc=0.927]\n"
          ]
        },
        {
          "output_type": "stream",
          "name": "stdout",
          "text": [
            "Epoch 36: train_loss=0.6660 train_acc=0.9267 val_loss=1.0059 val_acc=0.7956\n"
          ]
        },
        {
          "output_type": "stream",
          "name": "stderr",
          "text": [
            "Train Ep 37: 100%|██████████| 196/196 [01:00<00:00,  3.24it/s, loss=0.656, acc=0.932]\n"
          ]
        },
        {
          "output_type": "stream",
          "name": "stdout",
          "text": [
            "Epoch 37: train_loss=0.6558 train_acc=0.9320 val_loss=1.0124 val_acc=0.7981\n"
          ]
        },
        {
          "output_type": "stream",
          "name": "stderr",
          "text": [
            "Train Ep 38: 100%|██████████| 196/196 [01:00<00:00,  3.22it/s, loss=0.639, acc=0.939]\n"
          ]
        },
        {
          "output_type": "stream",
          "name": "stdout",
          "text": [
            "Epoch 38: train_loss=0.6386 train_acc=0.9393 val_loss=1.0122 val_acc=0.7985\n"
          ]
        },
        {
          "output_type": "stream",
          "name": "stderr",
          "text": [
            "Train Ep 39: 100%|██████████| 196/196 [01:00<00:00,  3.22it/s, loss=0.631, acc=0.943]\n"
          ]
        },
        {
          "output_type": "stream",
          "name": "stdout",
          "text": [
            "Epoch 39: train_loss=0.6308 train_acc=0.9426 val_loss=1.0096 val_acc=0.8018\n"
          ]
        },
        {
          "output_type": "stream",
          "name": "stderr",
          "text": [
            "Train Ep 40: 100%|██████████| 196/196 [01:00<00:00,  3.23it/s, loss=0.62, acc=0.948]\n"
          ]
        },
        {
          "output_type": "stream",
          "name": "stdout",
          "text": [
            "Epoch 40: train_loss=0.6200 train_acc=0.9480 val_loss=1.0165 val_acc=0.8006\n"
          ]
        },
        {
          "output_type": "stream",
          "name": "stderr",
          "text": [
            "Train Ep 41: 100%|██████████| 196/196 [01:00<00:00,  3.24it/s, loss=0.607, acc=0.953]\n"
          ]
        },
        {
          "output_type": "stream",
          "name": "stdout",
          "text": [
            "Epoch 41: train_loss=0.6073 train_acc=0.9530 val_loss=1.0203 val_acc=0.8017\n"
          ]
        },
        {
          "output_type": "stream",
          "name": "stderr",
          "text": [
            "Train Ep 42: 100%|██████████| 196/196 [01:00<00:00,  3.24it/s, loss=0.597, acc=0.959]\n"
          ]
        },
        {
          "output_type": "stream",
          "name": "stdout",
          "text": [
            "Epoch 42: train_loss=0.5971 train_acc=0.9590 val_loss=1.0181 val_acc=0.8033\n"
          ]
        },
        {
          "output_type": "stream",
          "name": "stderr",
          "text": [
            "Train Ep 43: 100%|██████████| 196/196 [01:00<00:00,  3.24it/s, loss=0.59, acc=0.962]\n"
          ]
        },
        {
          "output_type": "stream",
          "name": "stdout",
          "text": [
            "Epoch 43: train_loss=0.5896 train_acc=0.9620 val_loss=1.0252 val_acc=0.8029\n"
          ]
        },
        {
          "output_type": "stream",
          "name": "stderr",
          "text": [
            "Train Ep 44: 100%|██████████| 196/196 [01:00<00:00,  3.24it/s, loss=0.581, acc=0.967]\n"
          ]
        },
        {
          "output_type": "stream",
          "name": "stdout",
          "text": [
            "Epoch 44: train_loss=0.5809 train_acc=0.9667 val_loss=1.0259 val_acc=0.8025\n"
          ]
        },
        {
          "output_type": "stream",
          "name": "stderr",
          "text": [
            "Train Ep 45: 100%|██████████| 196/196 [01:00<00:00,  3.24it/s, loss=0.575, acc=0.968]\n"
          ]
        },
        {
          "output_type": "stream",
          "name": "stdout",
          "text": [
            "Epoch 45: train_loss=0.5751 train_acc=0.9684 val_loss=1.0341 val_acc=0.8023\n"
          ]
        },
        {
          "output_type": "stream",
          "name": "stderr",
          "text": [
            "Train Ep 46: 100%|██████████| 196/196 [01:00<00:00,  3.24it/s, loss=0.568, acc=0.971]\n"
          ]
        },
        {
          "output_type": "stream",
          "name": "stdout",
          "text": [
            "Epoch 46: train_loss=0.5681 train_acc=0.9713 val_loss=1.0380 val_acc=0.8020\n"
          ]
        },
        {
          "output_type": "stream",
          "name": "stderr",
          "text": [
            "Train Ep 47: 100%|██████████| 196/196 [01:00<00:00,  3.24it/s, loss=0.56, acc=0.976]\n"
          ]
        },
        {
          "output_type": "stream",
          "name": "stdout",
          "text": [
            "Epoch 47: train_loss=0.5603 train_acc=0.9757 val_loss=1.0427 val_acc=0.8030\n"
          ]
        },
        {
          "output_type": "stream",
          "name": "stderr",
          "text": [
            "Train Ep 48: 100%|██████████| 196/196 [01:00<00:00,  3.24it/s, loss=0.556, acc=0.977]\n"
          ]
        },
        {
          "output_type": "stream",
          "name": "stdout",
          "text": [
            "Epoch 48: train_loss=0.5558 train_acc=0.9767 val_loss=1.0351 val_acc=0.8042\n"
          ]
        },
        {
          "output_type": "stream",
          "name": "stderr",
          "text": [
            "Train Ep 49: 100%|██████████| 196/196 [01:00<00:00,  3.24it/s, loss=0.552, acc=0.979]\n"
          ]
        },
        {
          "output_type": "stream",
          "name": "stdout",
          "text": [
            "Epoch 49: train_loss=0.5515 train_acc=0.9789 val_loss=1.0354 val_acc=0.8051\n"
          ]
        },
        {
          "output_type": "stream",
          "name": "stderr",
          "text": [
            "Train Ep 50: 100%|██████████| 196/196 [01:00<00:00,  3.23it/s, loss=0.546, acc=0.982]\n"
          ]
        },
        {
          "output_type": "stream",
          "name": "stdout",
          "text": [
            "Epoch 50: train_loss=0.5462 train_acc=0.9816 val_loss=1.0490 val_acc=0.8049\n"
          ]
        },
        {
          "output_type": "stream",
          "name": "stderr",
          "text": [
            "Train Ep 51: 100%|██████████| 196/196 [01:00<00:00,  3.22it/s, loss=0.544, acc=0.983]\n"
          ]
        },
        {
          "output_type": "stream",
          "name": "stdout",
          "text": [
            "Epoch 51: train_loss=0.5435 train_acc=0.9828 val_loss=1.0472 val_acc=0.8040\n"
          ]
        },
        {
          "output_type": "stream",
          "name": "stderr",
          "text": [
            "Train Ep 52: 100%|██████████| 196/196 [01:00<00:00,  3.22it/s, loss=0.542, acc=0.983]\n"
          ]
        },
        {
          "output_type": "stream",
          "name": "stdout",
          "text": [
            "Epoch 52: train_loss=0.5422 train_acc=0.9832 val_loss=1.0457 val_acc=0.8069\n"
          ]
        },
        {
          "output_type": "stream",
          "name": "stderr",
          "text": [
            "Train Ep 53: 100%|██████████| 196/196 [01:00<00:00,  3.23it/s, loss=0.539, acc=0.985]\n"
          ]
        },
        {
          "output_type": "stream",
          "name": "stdout",
          "text": [
            "Epoch 53: train_loss=0.5395 train_acc=0.9846 val_loss=1.0472 val_acc=0.8048\n"
          ]
        },
        {
          "output_type": "stream",
          "name": "stderr",
          "text": [
            "Train Ep 54: 100%|██████████| 196/196 [01:00<00:00,  3.22it/s, loss=0.536, acc=0.987]\n"
          ]
        },
        {
          "output_type": "stream",
          "name": "stdout",
          "text": [
            "Epoch 54: train_loss=0.5365 train_acc=0.9866 val_loss=1.0530 val_acc=0.8053\n"
          ]
        },
        {
          "output_type": "stream",
          "name": "stderr",
          "text": [
            "Train Ep 55: 100%|██████████| 196/196 [01:00<00:00,  3.22it/s, loss=0.534, acc=0.987]\n"
          ]
        },
        {
          "output_type": "stream",
          "name": "stdout",
          "text": [
            "Epoch 55: train_loss=0.5345 train_acc=0.9866 val_loss=1.0488 val_acc=0.8079\n"
          ]
        },
        {
          "output_type": "stream",
          "name": "stderr",
          "text": [
            "Train Ep 56: 100%|██████████| 196/196 [01:00<00:00,  3.23it/s, loss=0.533, acc=0.988]\n"
          ]
        },
        {
          "output_type": "stream",
          "name": "stdout",
          "text": [
            "Epoch 56: train_loss=0.5330 train_acc=0.9883 val_loss=1.0486 val_acc=0.8072\n"
          ]
        },
        {
          "output_type": "stream",
          "name": "stderr",
          "text": [
            "Train Ep 57: 100%|██████████| 196/196 [01:00<00:00,  3.24it/s, loss=0.534, acc=0.987]\n"
          ]
        },
        {
          "output_type": "stream",
          "name": "stdout",
          "text": [
            "Epoch 57: train_loss=0.5336 train_acc=0.9873 val_loss=1.0491 val_acc=0.8078\n"
          ]
        },
        {
          "output_type": "stream",
          "name": "stderr",
          "text": [
            "Train Ep 58: 100%|██████████| 196/196 [01:00<00:00,  3.24it/s, loss=0.53, acc=0.989]\n"
          ]
        },
        {
          "output_type": "stream",
          "name": "stdout",
          "text": [
            "Epoch 58: train_loss=0.5302 train_acc=0.9893 val_loss=1.0487 val_acc=0.8069\n"
          ]
        },
        {
          "output_type": "stream",
          "name": "stderr",
          "text": [
            "Train Ep 59: 100%|██████████| 196/196 [01:00<00:00,  3.24it/s, loss=0.531, acc=0.988]\n"
          ]
        },
        {
          "output_type": "stream",
          "name": "stdout",
          "text": [
            "Epoch 59: train_loss=0.5314 train_acc=0.9885 val_loss=1.0492 val_acc=0.8075\n"
          ]
        },
        {
          "output_type": "stream",
          "name": "stderr",
          "text": [
            "Train Ep 60: 100%|██████████| 196/196 [01:00<00:00,  3.24it/s, loss=0.533, acc=0.988]\n"
          ]
        },
        {
          "output_type": "stream",
          "name": "stdout",
          "text": [
            "Epoch 60: train_loss=0.5326 train_acc=0.9876 val_loss=1.0489 val_acc=0.8073\n",
            "Training finished. Best val acc: 0.8079\n",
            "Elapsed: 1:05:05.436691\n"
          ]
        }
      ]
    },
    {
      "cell_type": "code",
      "source": [
        "checkpoint = torch.load('best_vit_cifar10.pth', map_location=DEVICE)\n",
        "model.load_state_dict(checkpoint['model_state'])\n",
        "loss, acc = evaluate()\n",
        "print('Loaded best checkpoint — val loss:', loss, 'val acc:', acc)\n",
        "\n",
        "\n",
        "# Show some predictions\n",
        "import matplotlib.pyplot as plt\n",
        "import numpy as np\n",
        "classes = train_ds.classes\n",
        "model.eval()\n",
        "imgs, targets = next(iter(val_loader))\n",
        "with torch.no_grad():\n",
        "  logits = model(imgs.to(DEVICE))\n",
        "  preds = logits.argmax(dim=1).cpu().numpy()\n",
        "\n",
        "\n",
        "fig, axes = plt.subplots(3,6, figsize=(12,6))\n",
        "for ax, img, t, p in zip(axes.flatten(), imgs, targets, preds):\n",
        "  im = img.permute(1,2,0).numpy()\n",
        "  im = (im * np.array([0.247,0.243,0.261]) + np.array([0.4914,0.4822,0.4465]))\n",
        "  im = np.clip(im, 0, 1)\n",
        "  ax.imshow(im)\n",
        "  ax.set_title(f'T:{classes[t]}\\nP:{classes[p]}')\n",
        "  ax.axis('off')\n",
        "plt.tight_layout()"
      ],
      "metadata": {
        "colab": {
          "base_uri": "https://localhost:8080/",
          "height": 588
        },
        "id": "xFfRkcD8aOvO",
        "outputId": "420c0646-a712-4128-f1da-e8526716a414"
      },
      "execution_count": 11,
      "outputs": [
        {
          "output_type": "stream",
          "name": "stdout",
          "text": [
            "Loaded best checkpoint — val loss: 1.0487583292007445 val acc: 0.8079\n"
          ]
        },
        {
          "output_type": "display_data",
          "data": {
            "text/plain": [
              "<Figure size 1200x600 with 18 Axes>"
            ],
            "image/png": "[encoded data removed]"
          },
          "metadata": {}
        }
      ]
    },
    {
      "cell_type": "code",
      "source": [],
      "metadata": {
        "id": "tPEN2-ODpTtq"
      },
      "execution_count": null,
      "outputs": []
    }
  ]
}